{
 "cells": [
  {
   "cell_type": "code",
   "execution_count": 46,
   "metadata": {
    "collapsed": false,
    "deletable": true,
    "editable": true
   },
   "outputs": [],
   "source": [
    "import instabot as inst\n",
    "import pandas as pd"
   ]
  },
  {
   "cell_type": "code",
   "execution_count": 20,
   "metadata": {
    "collapsed": true
   },
   "outputs": [],
   "source": [
    "username = 'ohrana228'\n",
    "pwd = 'GoStartUp1337'"
   ]
  },
  {
   "cell_type": "code",
   "execution_count": 21,
   "metadata": {
    "collapsed": false,
    "deletable": true,
    "editable": true
   },
   "outputs": [
    {
     "name": "stderr",
     "output_type": "stream",
     "text": [
      "2017-04-14 13:32:35,110 - INFO - Instabot Started\n",
      "2017-04-14 13:32:35,110 - INFO - Instabot Started\n",
      "2017-04-14 13:32:35,110 - INFO - Instabot Started\n",
      "2017-04-14 13:32:35,110 - INFO - Instabot Started\n",
      "2017-04-14 13:32:36,360 - INFO - Login success as ohrana228!\n",
      "2017-04-14 13:32:36,360 - INFO - Login success as ohrana228!\n",
      "2017-04-14 13:32:36,360 - INFO - Login success as ohrana228!\n",
      "2017-04-14 13:32:36,360 - INFO - Login success as ohrana228!\n"
     ]
    }
   ],
   "source": [
    "bot = inst.Bot()\n",
    "bot.login(username=username, password=pwd)"
   ]
  },
  {
   "cell_type": "code",
   "execution_count": 22,
   "metadata": {
    "collapsed": true
   },
   "outputs": [],
   "source": [
    "my_inst_username = 'alexm.shots'"
   ]
  },
  {
   "cell_type": "code",
   "execution_count": 23,
   "metadata": {
    "collapsed": false
   },
   "outputs": [
    {
     "name": "stderr",
     "output_type": "stream",
     "text": [
      "2017-04-14 13:33:00,700 - INFO - Stats saved at 2017-04-14 13:33:00.699683.\n",
      "2017-04-14 13:33:00,700 - INFO - Stats saved at 2017-04-14 13:33:00.699683.\n",
      "2017-04-14 13:33:00,700 - INFO - Stats saved at 2017-04-14 13:33:00.699683.\n",
      "2017-04-14 13:33:00,700 - INFO - Stats saved at 2017-04-14 13:33:00.699683.\n"
     ]
    },
    {
     "data": {
      "text/plain": [
       "False"
      ]
     },
     "execution_count": 23,
     "metadata": {},
     "output_type": "execute_result"
    }
   ],
   "source": [
    "bot.save_user_stats(my_inst_username)"
   ]
  },
  {
   "cell_type": "code",
   "execution_count": 26,
   "metadata": {
    "collapsed": false
   },
   "outputs": [],
   "source": [
    "media = bot.get_user_medias(my_inst_username, filtration=False)"
   ]
  },
  {
   "cell_type": "code",
   "execution_count": 28,
   "metadata": {
    "collapsed": false
   },
   "outputs": [
    {
     "data": {
      "text/plain": [
       "[{'caption': {'bit_flags': 0,\n",
       "   'content_type': 'comment',\n",
       "   'created_at': 1479416407,\n",
       "   'created_at_utc': 1479416407,\n",
       "   'media_id': 1385767714861976692,\n",
       "   'pk': 17859786703071728,\n",
       "   'status': 'Active',\n",
       "   'text': '#bw #money #smoke #sigarette #mipt #streetstyle #street #portrait',\n",
       "   'type': 1,\n",
       "   'user': {'friendship_status': {'following': True,\n",
       "     'outgoing_request': False},\n",
       "    'full_name': 'Alexander Malyshev',\n",
       "    'has_anonymous_profile_picture': False,\n",
       "    'is_favorite': False,\n",
       "    'is_private': False,\n",
       "    'is_unpublished': False,\n",
       "    'is_verified': False,\n",
       "    'pk': 235525996,\n",
       "    'profile_pic_id': '1345797466016893364_235525996',\n",
       "    'profile_pic_url': 'http://scontent-arn2-1.cdninstagram.com/t51.2885-19/s150x150/14369143_571815713027652_3279938259051872256_a.jpg',\n",
       "    'username': 'alexm.shots'},\n",
       "   'user_id': 235525996},\n",
       "  'caption_is_edited': False,\n",
       "  'client_cache_key': 'MTM4NTc2NzcxNDg2MTk3NjY5Mg==.2',\n",
       "  'code': 'BM7PGUBjYx0',\n",
       "  'comment_count': 13,\n",
       "  'comment_likes_enabled': False,\n",
       "  'comments': [{'bit_flags': 0,\n",
       "    'content_type': 'comment',\n",
       "    'created_at': 1489890756,\n",
       "    'created_at_utc': 1489890756,\n",
       "    'media_id': 1385767714861976692,\n",
       "    'pk': 17852064835155741,\n",
       "    'status': 'Active',\n",
       "    'text': '😲😵I would have given that to some one in need',\n",
       "    'type': 0,\n",
       "    'user': {'full_name': 'Ryan Prizzi',\n",
       "     'is_private': False,\n",
       "     'is_verified': False,\n",
       "     'pk': 289079643,\n",
       "     'profile_pic_id': '1480415122136356079_289079643',\n",
       "     'profile_pic_url': 'http://scontent-arn2-1.cdninstagram.com/t51.2885-19/s150x150/17587475_1392974940765656_3433219134970658816_a.jpg',\n",
       "     'username': 'ryan_zwick'},\n",
       "    'user_id': 289079643}],\n",
       "  'device_timestamp': 1479416325,\n",
       "  'filter_type': 0,\n",
       "  'has_liked': False,\n",
       "  'has_more_comments': True,\n",
       "  'id': '1385767714861976692_235525996',\n",
       "  'image_versions2': {'candidates': [{'height': 719,\n",
       "     'url': 'http://scontent-arn2-1.cdninstagram.com/t51.2885-15/e35/15057274_1709529092698493_6505847693535870976_n.jpg?ig_cache_key=MTM4NTc2NzcxNDg2MTk3NjY5Mg%3D%3D.2&se=7',\n",
       "     'width': 1080},\n",
       "    {'height': 499,\n",
       "     'url': 'http://scontent-arn2-1.cdninstagram.com/t51.2885-15/s750x750/sh0.08/e35/15057274_1709529092698493_6505847693535870976_n.jpg?ig_cache_key=MTM4NTc2NzcxNDg2MTk3NjY5Mg%3D%3D.2',\n",
       "     'width': 750},\n",
       "    {'height': 426,\n",
       "     'url': 'http://scontent-arn2-1.cdninstagram.com/t51.2885-15/s640x640/sh0.08/e35/15057274_1709529092698493_6505847693535870976_n.jpg?ig_cache_key=MTM4NTc2NzcxNDg2MTk3NjY5Mg%3D%3D.2',\n",
       "     'width': 640},\n",
       "    {'height': 319,\n",
       "     'url': 'http://scontent-arn2-1.cdninstagram.com/t51.2885-15/s480x480/e35/15057274_1709529092698493_6505847693535870976_n.jpg?ig_cache_key=MTM4NTc2NzcxNDg2MTk3NjY5Mg%3D%3D.2',\n",
       "     'width': 480},\n",
       "    {'height': 213,\n",
       "     'url': 'http://scontent-arn2-1.cdninstagram.com/t51.2885-15/s320x320/e35/15057274_1709529092698493_6505847693535870976_n.jpg?ig_cache_key=MTM4NTc2NzcxNDg2MTk3NjY5Mg%3D%3D.2',\n",
       "     'width': 320},\n",
       "    {'height': 159,\n",
       "     'url': 'http://scontent-arn2-1.cdninstagram.com/t51.2885-15/s240x240/e35/15057274_1709529092698493_6505847693535870976_n.jpg?ig_cache_key=MTM4NTc2NzcxNDg2MTk3NjY5Mg%3D%3D.2',\n",
       "     'width': 240},\n",
       "    {'height': 99,\n",
       "     'url': 'http://scontent-arn2-1.cdninstagram.com/t51.2885-15/s150x150/e35/15057274_1709529092698493_6505847693535870976_n.jpg?ig_cache_key=MTM4NTc2NzcxNDg2MTk3NjY5Mg%3D%3D.2',\n",
       "     'width': 150},\n",
       "    {'height': 640,\n",
       "     'url': 'http://scontent-arn2-1.cdninstagram.com/t51.2885-15/s640x640/sh0.08/e35/c180.0.719.719/15057274_1709529092698493_6505847693535870976_n.jpg?ig_cache_key=MTM4NTc2NzcxNDg2MTk3NjY5Mg%3D%3D.2.c',\n",
       "     'width': 640},\n",
       "    {'height': 480,\n",
       "     'url': 'http://scontent-arn2-1.cdninstagram.com/t51.2885-15/s480x480/e35/c180.0.719.719/15057274_1709529092698493_6505847693535870976_n.jpg?ig_cache_key=MTM4NTc2NzcxNDg2MTk3NjY5Mg%3D%3D.2.c',\n",
       "     'width': 480},\n",
       "    {'height': 320,\n",
       "     'url': 'http://scontent-arn2-1.cdninstagram.com/t51.2885-15/s320x320/e35/c180.0.719.719/15057274_1709529092698493_6505847693535870976_n.jpg?ig_cache_key=MTM4NTc2NzcxNDg2MTk3NjY5Mg%3D%3D.2.c',\n",
       "     'width': 320},\n",
       "    {'height': 240,\n",
       "     'url': 'http://scontent-arn2-1.cdninstagram.com/t51.2885-15/s240x240/e35/c180.0.719.719/15057274_1709529092698493_6505847693535870976_n.jpg?ig_cache_key=MTM4NTc2NzcxNDg2MTk3NjY5Mg%3D%3D.2.c',\n",
       "     'width': 240},\n",
       "    {'height': 150,\n",
       "     'url': 'http://scontent-arn2-1.cdninstagram.com/t51.2885-15/s150x150/e35/c180.0.719.719/15057274_1709529092698493_6505847693535870976_n.jpg?ig_cache_key=MTM4NTc2NzcxNDg2MTk3NjY5Mg%3D%3D.2.c',\n",
       "     'width': 150}]},\n",
       "  'lat': 55.929444444444,\n",
       "  'like_count': 750,\n",
       "  'lng': 37.521388888889,\n",
       "  'location': {'address': 'Институтский переулок, д. 9',\n",
       "   'city': '',\n",
       "   'external_source': 'facebook_places',\n",
       "   'facebook_places_id': 108231082537595,\n",
       "   'lat': 55.929444444444,\n",
       "   'lng': 37.521388888889,\n",
       "   'name': 'Moscow Institute of Physics and Technology',\n",
       "   'pk': 636606262,\n",
       "   'short_name': 'Moscow Institute of Physics and Technology'},\n",
       "  'max_num_visible_preview_comments': 2,\n",
       "  'media_type': 1,\n",
       "  'next_max_id': 17852064835155741,\n",
       "  'organic_tracking_token': 'eyJ2ZXJzaW9uIjo1LCJwYXlsb2FkIjp7ImlzX2FuYWx5dGljc190cmFja2VkIjpmYWxzZSwidXVpZCI6ImE3ZWQ3Yzc0MDIxMzRmZjhiMWI4MmQyZDE3Yzg3ZjdlMTM4NTc2NzcxNDg2MTk3NjY5MiIsInNlcnZlcl90b2tlbiI6IjE0OTIxNjY5MzQ0MDF8MTM4NTc2NzcxNDg2MTk3NjY5MnwxOTIwNzY0MjI5fDA3MzY4ZmM4ZmIzZTI3NTZlNDNkMmZlZmM0YzliZWNlMGQ1NjdmYjRjZjRjMWMxNWZhYzc3NGZjNTVlNjJlMGYifSwic2lnbmF0dXJlIjoiIn0=',\n",
       "  'original_height': 719,\n",
       "  'original_width': 1080,\n",
       "  'photo_of_you': False,\n",
       "  'pk': 1385767714861976692,\n",
       "  'preview_comments': [{'bit_flags': 0,\n",
       "    'content_type': 'comment',\n",
       "    'created_at': 1489890756,\n",
       "    'created_at_utc': 1489890756,\n",
       "    'media_id': 1385767714861976692,\n",
       "    'pk': 17852064835155741,\n",
       "    'status': 'Active',\n",
       "    'text': '😲😵I would have given that to some one in need',\n",
       "    'type': 0,\n",
       "    'user': {'full_name': 'Ryan Prizzi',\n",
       "     'is_private': False,\n",
       "     'is_verified': False,\n",
       "     'pk': 289079643,\n",
       "     'profile_pic_id': '1480415122136356079_289079643',\n",
       "     'profile_pic_url': 'http://scontent-arn2-1.cdninstagram.com/t51.2885-19/s150x150/17587475_1392974940765656_3433219134970658816_a.jpg',\n",
       "     'username': 'ryan_zwick'},\n",
       "    'user_id': 289079643}],\n",
       "  'taken_at': 1479416406,\n",
       "  'top_likers': [],\n",
       "  'user': {'friendship_status': {'following': True, 'outgoing_request': False},\n",
       "   'full_name': 'Alexander Malyshev',\n",
       "   'has_anonymous_profile_picture': False,\n",
       "   'is_favorite': False,\n",
       "   'is_private': False,\n",
       "   'is_unpublished': False,\n",
       "   'is_verified': False,\n",
       "   'pk': 235525996,\n",
       "   'profile_pic_id': '1345797466016893364_235525996',\n",
       "   'profile_pic_url': 'http://scontent-arn2-1.cdninstagram.com/t51.2885-19/s150x150/14369143_571815713027652_3279938259051872256_a.jpg',\n",
       "   'username': 'alexm.shots'}}]"
      ]
     },
     "execution_count": 28,
     "metadata": {},
     "output_type": "execute_result"
    }
   ],
   "source": [
    "bot.get_media_info(media[0])"
   ]
  },
  {
   "cell_type": "code",
   "execution_count": 43,
   "metadata": {
    "collapsed": false
   },
   "outputs": [],
   "source": [
    "def get_media_url(media_id):\n",
    "    return bot.get_media_info(media_id)[0]['image_versions2']['candidates'][0]['url']"
   ]
  },
  {
   "cell_type": "code",
   "execution_count": 71,
   "metadata": {
    "collapsed": false
   },
   "outputs": [],
   "source": [
    "media_urls = [get_media_url(media_id) for media_id in media]"
   ]
  },
  {
   "cell_type": "code",
   "execution_count": 53,
   "metadata": {
    "collapsed": false
   },
   "outputs": [],
   "source": [
    "import requests\n",
    "from urllib.parse import urlparse"
   ]
  },
  {
   "cell_type": "code",
   "execution_count": 64,
   "metadata": {
    "collapsed": false
   },
   "outputs": [],
   "source": [
    "def get_image_name(url):\n",
    "    return urlparse(url).path.split('/')[-1]"
   ]
  },
  {
   "cell_type": "code",
   "execution_count": 65,
   "metadata": {
    "collapsed": true
   },
   "outputs": [],
   "source": [
    "import os"
   ]
  },
  {
   "cell_type": "code",
   "execution_count": 67,
   "metadata": {
    "collapsed": true
   },
   "outputs": [],
   "source": [
    "dir_to_save = \"./\"+my_inst_username"
   ]
  },
  {
   "cell_type": "code",
   "execution_count": 68,
   "metadata": {
    "collapsed": true
   },
   "outputs": [],
   "source": [
    "def download_image(url, dir_to_save):\n",
    "    img_data = requests.get(url).content\n",
    "    image_name = get_image_name(url)\n",
    "    if not os.path.exists(dir_to_save):\n",
    "        os.makedirs(dir_to_save)\n",
    "    file_dir = os.path.join(dir_to_save, image_name)\n",
    "    with open(file_dir, 'wb') as handler:\n",
    "        handler.write(img_data)"
   ]
  },
  {
   "cell_type": "code",
   "execution_count": 73,
   "metadata": {
    "collapsed": false
   },
   "outputs": [],
   "source": [
    "for url in media_urls:\n",
    "    download_image(url, dir_to_save)"
   ]
  },
  {
   "cell_type": "code",
   "execution_count": null,
   "metadata": {
    "collapsed": true
   },
   "outputs": [],
   "source": []
  }
 ],
 "metadata": {
  "kernelspec": {
   "display_name": "Python3",
   "language": "python",
   "name": "python3"
  },
  "language_info": {
   "codemirror_mode": {
    "name": "ipython",
    "version": 3
   },
   "file_extension": ".py",
   "mimetype": "text/x-python",
   "name": "python",
   "nbconvert_exporter": "python",
   "pygments_lexer": "ipython3",
   "version": "3.6.1"
  }
 },
 "nbformat": 4,
 "nbformat_minor": 2
}
