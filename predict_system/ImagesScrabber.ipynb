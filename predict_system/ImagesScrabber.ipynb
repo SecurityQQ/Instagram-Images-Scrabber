{
 "cells": [
  {
   "cell_type": "code",
   "execution_count": 4,
   "metadata": {
    "collapsed": false,
    "deletable": true,
    "editable": true
   },
   "outputs": [],
   "source": [
    "import instabot as inst"
   ]
  },
  {
   "cell_type": "code",
   "execution_count": 5,
   "metadata": {
    "collapsed": true,
    "deletable": true,
    "editable": true
   },
   "outputs": [],
   "source": [
    "username = 'ohrana228'\n",
    "pwd = 'GoStartUp1337'"
   ]
  },
  {
   "cell_type": "code",
   "execution_count": 6,
   "metadata": {
    "collapsed": false,
    "deletable": true,
    "editable": true
   },
   "outputs": [
    {
     "name": "stderr",
     "output_type": "stream",
     "text": [
      "2017-04-15 01:21:37,663 - INFO - Instabot Started\n",
      "2017-04-15 01:21:38,954 - INFO - Login success as ohrana228!\n"
     ]
    }
   ],
   "source": [
    "bot = inst.Bot()\n",
    "bot.login(username=username, password=pwd)"
   ]
  },
  {
   "cell_type": "code",
   "execution_count": 7,
   "metadata": {
    "collapsed": true,
    "deletable": true,
    "editable": true
   },
   "outputs": [],
   "source": [
    "my_inst_username = 'alexm.shots'"
   ]
  },
  {
   "cell_type": "code",
   "execution_count": 8,
   "metadata": {
    "collapsed": false,
    "deletable": true,
    "editable": true
   },
   "outputs": [
    {
     "name": "stderr",
     "output_type": "stream",
     "text": [
      "2017-04-15 01:21:40,306 - INFO - Stats saved at 2017-04-15 01:21:40.298144.\n"
     ]
    },
    {
     "data": {
      "text/plain": [
       "False"
      ]
     },
     "execution_count": 8,
     "metadata": {},
     "output_type": "execute_result"
    }
   ],
   "source": [
    "bot.save_user_stats(my_inst_username)"
   ]
  },
  {
   "cell_type": "code",
   "execution_count": 9,
   "metadata": {
    "collapsed": false,
    "deletable": true,
    "editable": true
   },
   "outputs": [],
   "source": [
    "media = bot.get_user_medias(my_inst_username, filtration=False)"
   ]
  },
  {
   "cell_type": "code",
   "execution_count": 11,
   "metadata": {
    "collapsed": false,
    "deletable": true,
    "editable": true
   },
   "outputs": [],
   "source": [
    "def get_media_url(media_id):\n",
    "    return bot.get_media_info(media_id)[0]['image_versions2']['candidates'][0]['url']"
   ]
  },
  {
   "cell_type": "code",
   "execution_count": 12,
   "metadata": {
    "collapsed": false,
    "deletable": true,
    "editable": true
   },
   "outputs": [],
   "source": [
    "media_urls = [get_media_url(media_id) for media_id in media]"
   ]
  },
  {
   "cell_type": "code",
   "execution_count": 13,
   "metadata": {
    "collapsed": false,
    "deletable": true,
    "editable": true
   },
   "outputs": [],
   "source": [
    "import requests\n",
    "from urllib.parse import urlparse"
   ]
  },
  {
   "cell_type": "code",
   "execution_count": 14,
   "metadata": {
    "collapsed": false,
    "deletable": true,
    "editable": true
   },
   "outputs": [],
   "source": [
    "def get_image_name(url):\n",
    "    return urlparse(url).path.split('/')[-1]"
   ]
  },
  {
   "cell_type": "code",
   "execution_count": 15,
   "metadata": {
    "collapsed": true,
    "deletable": true,
    "editable": true
   },
   "outputs": [],
   "source": [
    "import os"
   ]
  },
  {
   "cell_type": "code",
   "execution_count": 16,
   "metadata": {
    "collapsed": true,
    "deletable": true,
    "editable": true
   },
   "outputs": [],
   "source": [
    "dir_to_save = \"./\"+my_inst_username"
   ]
  },
  {
   "cell_type": "code",
   "execution_count": 22,
   "metadata": {
    "collapsed": true,
    "deletable": true,
    "editable": true
   },
   "outputs": [],
   "source": [
    "def download_image(url, dir_to_save):\n",
    "    img_data = requests.get(url).content\n",
    "    image_name = get_image_name(url)\n",
    "    if not os.path.exists(dir_to_save):\n",
    "        os.makedirs(dir_to_save)\n",
    "    file_dir = os.path.join(dir_to_save, image_name)\n",
    "    with open(file_dir, 'wb') as handler:\n",
    "        handler.write(img_data)\n",
    "    print(file_dir)"
   ]
  },
  {
   "cell_type": "code",
   "execution_count": 23,
   "metadata": {
    "collapsed": false,
    "deletable": true,
    "editable": true
   },
   "outputs": [
    {
     "name": "stdout",
     "output_type": "stream",
     "text": [
      "./alexm.shots/15057274_1709529092698493_6505847693535870976_n.jpg\n",
      "./alexm.shots/14582352_1109936302421804_2683177717486059520_n.jpg\n",
      "./alexm.shots/14533677_310405089332267_2126442826555195392_n.jpg\n",
      "./alexm.shots/14052253_110410602741568_1484166821_n.jpg\n",
      "./alexm.shots/13628359_281281295583993_1540448710_n.jpg\n",
      "./alexm.shots/13740972_1133436446695302_1107554884_n.jpg\n",
      "./alexm.shots/13694893_602115149966497_1020565582_n.jpg\n",
      "./alexm.shots/13744996_188677071549638_1578262910_n.jpg\n",
      "./alexm.shots/13767744_509920642544973_217924714_n.jpg\n",
      "./alexm.shots/13642977_573916459486284_1750069194_n.jpg\n",
      "./alexm.shots/13736990_161179404306408_1341464462_n.jpg\n",
      "./alexm.shots/13703104_1016387068483868_1130716755_n.jpg\n",
      "./alexm.shots/13724635_178476955904239_1548534254_n.jpg\n",
      "./alexm.shots/13725612_223609508035976_897385879_n.jpg\n",
      "./alexm.shots/13774360_1318426131508772_1839671982_n.jpg\n",
      "./alexm.shots/13694508_1778005975751473_1394267516_n.jpg\n",
      "./alexm.shots/13774430_1765952873628521_865648647_n.jpg\n",
      "./alexm.shots/13704083_229841527410535_395793381_n.jpg\n"
     ]
    }
   ],
   "source": [
    "for url in media_urls:\n",
    "    download_image(url, dir_to_save)"
   ]
  },
  {
   "cell_type": "code",
   "execution_count": 19,
   "metadata": {
    "collapsed": false
   },
   "outputs": [],
   "source": [
    "# installation : pip3 install pillow\n",
    "from PIL import Image"
   ]
  },
  {
   "cell_type": "code",
   "execution_count": 29,
   "metadata": {
    "collapsed": true
   },
   "outputs": [],
   "source": [
    "import os"
   ]
  },
  {
   "cell_type": "code",
   "execution_count": 39,
   "metadata": {
    "collapsed": false,
    "deletable": true,
    "editable": true
   },
   "outputs": [],
   "source": [
    "def compress_image(path):\n",
    "    image = Image.open(path)\n",
    "    ratio = image.width / image.height\n",
    "    if image.width > image.height:\n",
    "        image.save(path,dpi=[300 * ratio, 300])\n",
    "    else:\n",
    "        image.save(path,dpi=[300, 300 / ratio])\n",
    "        \n",
    "def compress_images_at_dir(path):\n",
    "    with os.scandir(path) as d:\n",
    "        for entry in d:\n",
    "            if not entry.name.startswith('.') and entry.is_file():\n",
    "                image_path = entry.path\n",
    "                try:\n",
    "                    compress_image(image_path)\n",
    "                except IOError:\n",
    "                    print(\"Warning: file at {} is not image\".format(image_path))"
   ]
  },
  {
   "cell_type": "code",
   "execution_count": 49,
   "metadata": {
    "collapsed": false
   },
   "outputs": [],
   "source": [
    ""
   ]
  },
  {
   "cell_type": "code",
   "execution_count": null,
   "metadata": {
    "collapsed": true
   },
   "outputs": [],
   "source": [
    ""
   ]
  },
  {
   "cell_type": "code",
   "execution_count": null,
   "metadata": {
    "collapsed": true
   },
   "outputs": [],
   "source": [
    ""
   ]
  }
 ],
 "metadata": {
  "kernelspec": {
   "display_name": "Python3",
   "language": "python",
   "name": "python3"
  },
  "language_info": {
   "codemirror_mode": {
    "name": "ipython",
    "version": 3.0
   },
   "file_extension": ".py",
   "mimetype": "text/x-python",
   "name": "python",
   "nbconvert_exporter": "python",
   "pygments_lexer": "ipython3",
   "version": "3.6.1"
  }
 },
 "nbformat": 4,
 "nbformat_minor": 0
}