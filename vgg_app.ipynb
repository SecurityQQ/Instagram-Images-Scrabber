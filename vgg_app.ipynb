{
 "cells": [
  {
   "cell_type": "code",
   "execution_count": 1,
   "metadata": {
    "collapsed": false,
    "deletable": true,
    "editable": true
   },
   "outputs": [],
   "source": [
    "from vgg16 import vgg16\n",
    "import tensorflow as tf\n",
    "import numpy as np\n",
    "import time   \n",
    "from tqdm import tqdm\n",
    "from scipy.misc import imread, imresize\n",
    "from imagenet_classes import class_names\n",
    "from PIL import Image\n",
    "from resizeimage import resizeimage\n",
    "import glob\n",
    "import os\n",
    "import sys\n"
   ]
  },
  {
   "cell_type": "code",
   "execution_count": 4,
   "metadata": {
    "collapsed": false,
    "deletable": true,
    "editable": true
   },
   "outputs": [],
   "source": [
    "def predict(X):\n",
    "    old_stdout = sys.stdout\n",
    "    sys.stdout = open(os.devnull, 'w')\n",
    "    results = []\n",
    "    sess = tf.Session()\n",
    "    img_shape = [None, X[0].shape[0],  X[0].shape[0], 3]\n",
    "    imgs = tf.placeholder(tf.float32, img_shape)\n",
    "    vgg = vgg16(imgs, 'vgg16_weights.npz', sess)\n",
    "    for img in tqdm(X):\n",
    "        img_for_processing = imresize(img, X[0].shape)\n",
    "        prob = sess.run(vgg.probs, feed_dict={vgg.imgs: [img_for_processing]})[0]\n",
    "        preds = (np.argsort(prob)[::-1])[0:5]\n",
    "        result = list(map(lambda p: (class_names[p], prob[p]), preds))\n",
    "        results += result\n",
    "    sys.stdout = old_stdout\n",
    "    return results"
   ]
  },
  {
   "cell_type": "code",
   "execution_count": 5,
   "metadata": {
    "collapsed": false,
    "deletable": true,
    "editable": true
   },
   "outputs": [],
   "source": [
    "def predict_user(username):\n",
    "    photos = []\n",
    "    for img in glob.glob(username + '/*.jpg'):\n",
    "        photo = imread(img, mode='RGB')\n",
    "        photo = imresize(photo, (224, 224))\n",
    "#         photo = imresize(photo, (photo.shape[0], photo.shape[1]))\n",
    "        photos.append(photo)\n",
    "    return predict(photos)\n",
    "        "
   ]
  },
  {
   "cell_type": "code",
   "execution_count": 6,
   "metadata": {
    "collapsed": false,
    "deletable": true,
    "editable": true
   },
   "outputs": [
    {
     "name": "stderr",
     "output_type": "stream",
     "text": [
      "100%|██████████| 18/18 [00:08<00:00,  1.83it/s]\n"
     ]
    }
   ],
   "source": [
    "# results = predict_user('alexm.shots')"
   ]
  },
  {
   "cell_type": "code",
   "execution_count": 32,
   "metadata": {
    "collapsed": false
   },
   "outputs": [],
   "source": [
    "def process_result(results):\n",
    "    classes = {}\n",
    "    norm_const = 0\n",
    "    for obj in results:\n",
    "        norm_const += obj[1]\n",
    "        if obj[0] in classes:\n",
    "            classes[obj[0]] += obj[1]\n",
    "        else:\n",
    "            classes[obj[0]] = obj[1]\n",
    "    return list(map(lambda (k,v): (k, v / norm_const), classes.iteritems()))\n",
    "            "
   ]
  },
  {
   "cell_type": "code",
   "execution_count": 16,
   "metadata": {
    "collapsed": false,
    "deletable": true,
    "editable": true
   },
   "outputs": [
    {
     "ename": "TypeError",
     "evalue": "unsupported operand type(s) for +=: 'int' and 'str'",
     "output_type": "error",
     "traceback": [
      "\u001b[0;31m---------------------------------------------------------------------------\u001b[0m",
      "\u001b[0;31mTypeError\u001b[0m                                 Traceback (most recent call last)",
      "\u001b[0;32m<ipython-input-16-48aae3a24bac>\u001b[0m in \u001b[0;36m<module>\u001b[0;34m()\u001b[0m\n\u001b[0;32m----> 1\u001b[0;31m \u001b[0mresults\u001b[0m \u001b[0;34m=\u001b[0m \u001b[0mprocess_result\u001b[0m\u001b[0;34m(\u001b[0m\u001b[0mresults\u001b[0m\u001b[0;34m)\u001b[0m\u001b[0;34m\u001b[0m\u001b[0m\n\u001b[0m",
      "\u001b[0;32m<ipython-input-15-3f351c539344>\u001b[0m in \u001b[0;36mprocess_result\u001b[0;34m(results)\u001b[0m\n\u001b[1;32m      3\u001b[0m     \u001b[0mnorm_const\u001b[0m \u001b[0;34m=\u001b[0m \u001b[0;36m0\u001b[0m\u001b[0;34m\u001b[0m\u001b[0m\n\u001b[1;32m      4\u001b[0m     \u001b[0;32mfor\u001b[0m \u001b[0mobj\u001b[0m \u001b[0;32min\u001b[0m \u001b[0mresults\u001b[0m\u001b[0;34m:\u001b[0m\u001b[0;34m\u001b[0m\u001b[0m\n\u001b[0;32m----> 5\u001b[0;31m         \u001b[0mnorm_const\u001b[0m \u001b[0;34m+=\u001b[0m \u001b[0mobj\u001b[0m\u001b[0;34m[\u001b[0m\u001b[0;36m1\u001b[0m\u001b[0;34m]\u001b[0m\u001b[0;34m\u001b[0m\u001b[0m\n\u001b[0m\u001b[1;32m      6\u001b[0m         \u001b[0;32mif\u001b[0m \u001b[0mobj\u001b[0m\u001b[0;34m[\u001b[0m\u001b[0;36m0\u001b[0m\u001b[0;34m]\u001b[0m \u001b[0;32min\u001b[0m \u001b[0mclasses\u001b[0m\u001b[0;34m:\u001b[0m\u001b[0;34m\u001b[0m\u001b[0m\n\u001b[1;32m      7\u001b[0m             \u001b[0mclasses\u001b[0m\u001b[0;34m[\u001b[0m\u001b[0mobj\u001b[0m\u001b[0;34m[\u001b[0m\u001b[0;36m0\u001b[0m\u001b[0;34m]\u001b[0m\u001b[0;34m]\u001b[0m \u001b[0;34m+=\u001b[0m \u001b[0mobj\u001b[0m\u001b[0;34m[\u001b[0m\u001b[0;36m1\u001b[0m\u001b[0;34m]\u001b[0m\u001b[0;34m\u001b[0m\u001b[0m\n",
      "\u001b[0;31mTypeError\u001b[0m: unsupported operand type(s) for +=: 'int' and 'str'"
     ]
    }
   ],
   "source": [
    "# results = process_result(results)"
   ]
  },
  {
   "cell_type": "code",
   "execution_count": 30,
   "metadata": {
    "collapsed": false
   },
   "outputs": [],
   "source": [
    "# eps = 1e-6\n",
    "# assert(np.sum(results.values()) > 1-eps and np.sum(results.values()) < 1 + eps)"
   ]
  },
  {
   "cell_type": "code",
   "execution_count": 31,
   "metadata": {
    "collapsed": false
   },
   "outputs": [
    {
     "data": {
      "text/plain": [
       "{'abaya': 0.0097773387932886605,\n",
       " 'ambulance': 0.0063973960735215418,\n",
       " 'analog clock': 0.00072038644824019295,\n",
       " 'bannister, banister, balustrade, balusters, handrail': 0.0055981315652788421,\n",
       " 'beacon, lighthouse, beacon light, pharos': 0.0066649676893195458,\n",
       " 'bell cote, bell cot': 0.12830138069211849,\n",
       " 'breakwater, groin, groyne, mole, bulwark, seawall, jetty': 0.12863491690480205,\n",
       " 'cab, hack, taxi, taxicab': 0.032022967893453977,\n",
       " 'car mirror': 0.0027821518576026877,\n",
       " 'castle': 0.0043781140094456203,\n",
       " 'church, church building': 0.012727157015236844,\n",
       " 'cinema, movie theater, movie theatre, movie house, picture palace': 0.0060034847105358566,\n",
       " 'computer keyboard, keypad': 0.011490867330872586,\n",
       " 'dome': 0.015764836118259955,\n",
       " 'grasshopper, hopper': 0.0021861216775396412,\n",
       " 'greenhouse, nursery, glasshouse': 0.0059842243877584632,\n",
       " 'guillotine': 0.02601590172059489,\n",
       " 'harp': 0.0032184806025635816,\n",
       " 'lakeside, lakeshore': 0.087597539466945998,\n",
       " 'lampshade, lamp shade': 0.0032353231811685351,\n",
       " 'laptop, laptop computer': 0.0036782697897475183,\n",
       " 'lens cap, lens cover': 0.0023752511053986595,\n",
       " 'monastery': 0.024882370180813376,\n",
       " 'obelisk': 0.0018075459408227971,\n",
       " 'park bench': 0.094236105119943028,\n",
       " 'parking meter': 0.0073084649396881829,\n",
       " 'pier': 0.01072533682964894,\n",
       " 'pirate, pirate ship': 0.0025492165240814969,\n",
       " 'planetarium': 0.01134182270660202,\n",
       " 'police van, police wagon, paddy wagon, patrol wagon, wagon, black Maria': 0.0092548174525112631,\n",
       " 'prison, prison house': 0.0044060670272085458,\n",
       " 'promontory, headland, head, foreland': 0.013947321120497506,\n",
       " 'punching bag, punch bag, punching ball, punchball': 0.013994642444826465,\n",
       " 'remote control, remote': 0.0099325455638788283,\n",
       " 'sandbar, sand bar': 0.028152810911292916,\n",
       " 'seashore, coast, seacoast, sea-coast': 0.04287824907199711,\n",
       " 'shoji': 0.0083245300430092629,\n",
       " 'shopping cart': 0.0016824304919768555,\n",
       " 'solar dish, solar collector, solar furnace': 0.072939192662540966,\n",
       " 'streetcar, tram, tramcar, trolley, trolley car': 0.0038015802060074556,\n",
       " 'suspension bridge': 0.0083400700671637448,\n",
       " 'thatch, thatched roof': 0.013577720893450728,\n",
       " 'tile roof': 0.01336996394067096,\n",
       " 'traffic light, traffic signal, stoplight': 0.028501871079114786,\n",
       " 'trench coat': 0.0041447003013131475,\n",
       " 'triumphal arch': 0.0057679482853677643,\n",
       " 'trolleybus, trolley coach, trackless trolley': 0.0032101780632905769,\n",
       " 'umbrella': 0.004537797286559505,\n",
       " 'valley, vale': 0.0050068997541333309,\n",
       " 'water tower': 0.035180424157462295,\n",
       " 'window screen': 0.001578202193105023,\n",
       " 'wing': 0.0078969174537975046,\n",
       " 'worm fence, snake fence, snake-rail fence, Virginia fence': 0.0011670257167342812}"
      ]
     },
     "execution_count": 31,
     "metadata": {},
     "output_type": "execute_result"
    }
   ],
   "source": [
    "# results"
   ]
  },
  {
   "cell_type": "code",
   "execution_count": null,
   "metadata": {
    "collapsed": true
   },
   "outputs": [],
   "source": []
  }
 ],
 "metadata": {
  "kernelspec": {
   "display_name": "simplepython",
   "language": "python",
   "name": "simplepython"
  },
  "language_info": {
   "codemirror_mode": {
    "name": "ipython",
    "version": 2
   },
   "file_extension": ".py",
   "mimetype": "text/x-python",
   "name": "python",
   "nbconvert_exporter": "python",
   "pygments_lexer": "ipython2",
   "version": "2.7.12"
  }
 },
 "nbformat": 4,
 "nbformat_minor": 2
}
