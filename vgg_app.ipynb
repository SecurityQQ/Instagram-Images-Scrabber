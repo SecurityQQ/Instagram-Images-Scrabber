{
 "cells": [
  {
   "cell_type": "code",
   "execution_count": 10,
   "metadata": {
    "collapsed": false
   },
   "outputs": [],
   "source": [
    "from vgg16 import vgg16\n",
    "import tensorflow as tf\n",
    "import numpy as np\n",
    "import time   \n",
    "from tqdm import tqdm\n",
    "from scipy.misc import imread, imresize\n",
    "from imagenet_classes import class_names\n",
    "from PIL import Image\n",
    "from resizeimage import resizeimage\n",
    "import glob\n",
    "import os\n",
    "import sys\n"
   ]
  },
  {
   "cell_type": "code",
   "execution_count": 11,
   "metadata": {
    "collapsed": false
   },
   "outputs": [],
   "source": [
    "def predict(X):\n",
    "    old_stdout = sys.stdout\n",
    "    sys.stdout = open(os.devnull, 'w')\n",
    "    results = []\n",
    "    sess = tf.Session()\n",
    "    img_shape = [None, X[0].shape[0],  X[0].shape[0], 3]\n",
    "    imgs = tf.placeholder(tf.float32, img_shape)\n",
    "    vgg = vgg16(imgs, 'vgg16_weights.npz', sess)\n",
    "    for img in tqdm(X):\n",
    "        img_for_processing = imresize(img, X[0].shape)\n",
    "        prob = sess.run(vgg.probs, feed_dict={vgg.imgs: [img_for_processing]})[0]\n",
    "        preds = (np.argsort(prob)[::-1])[0:5]\n",
    "        result = list(map(lambda p: {class_names[p] : prob[p]}, preds))\n",
    "        results.append(result)\n",
    "    sys.stdout = old_stdout\n",
    "    return results"
   ]
  },
  {
   "cell_type": "code",
   "execution_count": 12,
   "metadata": {
    "collapsed": false
   },
   "outputs": [],
   "source": [
    "def predict_user(username):\n",
    "    photos = []\n",
    "    for img in glob.glob(username + '/*.jpg'):\n",
    "        photo = imread(img, mode='RGB')\n",
    "        photo = imresize(photo, photo.shape)\n",
    "        photos.append(photo)\n",
    "    return predict(photos)\n",
    "        "
   ]
  },
  {
   "cell_type": "code",
   "execution_count": 13,
   "metadata": {
    "collapsed": false
   },
   "outputs": [
    {
     "name": "stderr",
     "output_type": "stream",
     "text": [
      "100%|██████████| 18/18 [00:07<00:00,  2.29it/s]\n"
     ]
    },
    {
     "data": {
      "text/plain": [
       "[[{'traffic light, traffic signal, stoplight': 0.14519811},\n",
       "  {'trailer truck, tractor trailer, trucking rig, rig, articulated lorry, semi': 0.10594895},\n",
       "  {'dock, dockage, docking facility': 0.078749292},\n",
       "  {'garbage truck, dustcart': 0.055640832},\n",
       "  {'cab, hack, taxi, taxicab': 0.050403681}],\n",
       " [{'palace': 0.53408504},\n",
       "  {'castle': 0.24415937},\n",
       "  {'mosque': 0.076369181},\n",
       "  {'monastery': 0.041445207},\n",
       "  {'bell cote, bell cot': 0.021884894}],\n",
       " [{'cowboy hat, ten-gallon hat': 0.18701021},\n",
       "  {'sombrero': 0.057151824},\n",
       "  {'trench coat': 0.054471258},\n",
       "  {\"academic gown, academic robe, judge's robe\": 0.044212133},\n",
       "  {'jinrikisha, ricksha, rickshaw': 0.029330235}],\n",
       " [{'stage': 0.53205973},\n",
       "  {'electric guitar': 0.14738429},\n",
       "  {'microphone, mike': 0.056892574},\n",
       "  {'drumstick': 0.041494288},\n",
       "  {'drum, membranophone, tympan': 0.032811478}],\n",
       " [{'ski': 0.3463023},\n",
       "  {'snowmobile': 0.24158879},\n",
       "  {'bobsled, bobsleigh, bob': 0.22328633},\n",
       "  {'scuba diver': 0.064800754},\n",
       "  {'stretcher': 0.032503139}],\n",
       " [{'ski mask': 0.5229761},\n",
       "  {'bow tie, bow-tie, bowtie': 0.052240632},\n",
       "  {'bobsled, bobsleigh, bob': 0.031259585},\n",
       "  {'refrigerator, icebox': 0.022779264},\n",
       "  {'neck brace': 0.022433463}],\n",
       " [{'palace': 0.5317682},\n",
       "  {'mosque': 0.16268297},\n",
       "  {'castle': 0.11315899},\n",
       "  {'monastery': 0.044609621},\n",
       "  {'dome': 0.018372055}],\n",
       " [{'vault': 0.49559176},\n",
       "  {'umbrella': 0.14747536},\n",
       "  {'dome': 0.11912308},\n",
       "  {'coil, spiral, volute, whorl, helix': 0.092320286},\n",
       "  {'electric fan, blower': 0.03781702}],\n",
       " [{'limousine, limo': 0.051716413},\n",
       "  {'bow tie, bow-tie, bowtie': 0.051031634},\n",
       "  {'groom, bridegroom': 0.047254533},\n",
       "  {'bullet train, bullet': 0.042125236},\n",
       "  {'pool table, billiard table, snooker table': 0.033067062}],\n",
       " [{'pier': 0.46970889},\n",
       "  {'gondola': 0.17120057},\n",
       "  {'suspension bridge': 0.091637678},\n",
       "  {'dock, dockage, docking facility': 0.055618227},\n",
       "  {'dam, dike, dyke': 0.032828212}],\n",
       " [{'palace': 0.094470255},\n",
       "  {'castle': 0.088024139},\n",
       "  {'streetcar, tram, tramcar, trolley, trolley car': 0.062359083},\n",
       "  {'bell cote, bell cot': 0.055195183},\n",
       "  {'monastery': 0.028619364}],\n",
       " [{'stage': 0.66490132},\n",
       "  {'digital clock': 0.10135107},\n",
       "  {'theater curtain, theatre curtain': 0.042257953},\n",
       "  {'loudspeaker, speaker, speaker unit, loudspeaker system, speaker system': 0.023792781},\n",
       "  {'spotlight, spot': 0.02326577}],\n",
       " [{'dogsled, dog sled, dog sleigh': 0.499163},\n",
       "  {'ski': 0.48099262},\n",
       "  {'snowmobile': 0.011611333},\n",
       "  {'bobsled, bobsleigh, bob': 0.00320229},\n",
       "  {'alp': 0.0023047791}],\n",
       " [{'neck brace': 0.3346675},\n",
       "  {'dial telephone, dial phone': 0.17112473},\n",
       "  {'cellular telephone, cellular phone, cellphone, cell, mobile phone': 0.081566148},\n",
       "  {'cleaver, meat cleaver, chopper': 0.045032222},\n",
       "  {'hand blower, blow dryer, blow drier, hair dryer, hair drier': 0.038520377}],\n",
       " [{'snowplow, snowplough': 0.11088599},\n",
       "  {'greenhouse, nursery, glasshouse': 0.10091018},\n",
       "  {'chainlink fence': 0.082878195},\n",
       "  {'car mirror': 0.07097552},\n",
       "  {'fountain': 0.050369035}],\n",
       " [{'pool table, billiard table, snooker table': 0.19492808},\n",
       "  {'cinema, movie theater, movie theatre, movie house, picture palace': 0.16176943},\n",
       "  {'crutch': 0.11443308},\n",
       "  {'television, television system': 0.051808815},\n",
       "  {'swab, swob, mop': 0.043889988}],\n",
       " [{'plate': 0.6696465},\n",
       "  {'restaurant, eating house, eating place, eatery': 0.10805959},\n",
       "  {'carbonara': 0.10356619},\n",
       "  {'dining table, board': 0.046315283},\n",
       "  {'consomme': 0.025774846}],\n",
       " [{'palace': 0.19218086},\n",
       "  {'bell cote, bell cot': 0.093544357},\n",
       "  {'monastery': 0.075999543},\n",
       "  {'park bench': 0.051556345},\n",
       "  {'gondola': 0.049092956}]]"
      ]
     },
     "execution_count": 13,
     "metadata": {},
     "output_type": "execute_result"
    }
   ],
   "source": [
    "predict_user('ogdencitizensclub')"
   ]
  },
  {
   "cell_type": "code",
   "execution_count": null,
   "metadata": {
    "collapsed": true
   },
   "outputs": [],
   "source": []
  }
 ],
 "metadata": {
  "kernelspec": {
   "display_name": "simplepython",
   "language": "python",
   "name": "simplepython"
  },
  "language_info": {
   "codemirror_mode": {
    "name": "ipython",
    "version": 2
   },
   "file_extension": ".py",
   "mimetype": "text/x-python",
   "name": "python",
   "nbconvert_exporter": "python",
   "pygments_lexer": "ipython2",
   "version": "2.7.12"
  }
 },
 "nbformat": 4,
 "nbformat_minor": 2
}
