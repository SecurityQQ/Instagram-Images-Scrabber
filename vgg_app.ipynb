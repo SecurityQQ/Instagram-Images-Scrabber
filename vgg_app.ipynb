{
 "cells": [
  {
   "cell_type": "code",
   "execution_count": 1,
   "metadata": {
    "collapsed": false
   },
   "outputs": [],
   "source": [
    "from vgg16 import vgg16\n",
    "import tensorflow as tf\n",
    "import numpy as np\n",
    "import time   \n",
    "from tqdm import tqdm\n",
    "from scipy.misc import imread, imresize\n",
    "from imagenet_classes import class_names\n",
    "from PIL import Image\n",
    "from resizeimage import resizeimage\n",
    "import glob\n",
    "import os\n",
    "import sys\n"
   ]
  },
  {
   "cell_type": "code",
   "execution_count": 2,
   "metadata": {
    "collapsed": false
   },
   "outputs": [],
   "source": [
    "def predict(X):\n",
    "    old_stdout = sys.stdout\n",
    "    sys.stdout = open(os.devnull, 'w')\n",
    "    results = []\n",
    "    sess = tf.Session()\n",
    "    img_shape = [None, X[0].shape[0],  X[0].shape[0], 3]\n",
    "    imgs = tf.placeholder(tf.float32, img_shape)\n",
    "    vgg = vgg16(imgs, 'vgg16_weights.npz', sess)\n",
    "    for img in tqdm(X):\n",
    "        img_for_processing = imresize(img, X[0].shape)\n",
    "        prob = sess.run(vgg.probs, feed_dict={vgg.imgs: [img_for_processing]})[0]\n",
    "        preds = (np.argsort(prob)[::-1])[0:5]\n",
    "        result = list(map(lambda p: {class_names[p] : prob[p]}, preds))\n",
    "        results.append(result)\n",
    "    sys.stdout = old_stdout\n",
    "    return results"
   ]
  },
  {
   "cell_type": "code",
   "execution_count": 5,
   "metadata": {
    "collapsed": false
   },
   "outputs": [],
   "source": [
    "def predict_user(username):\n",
    "    photos = []\n",
    "    for img in glob.glob(username + '/*.jpg'):\n",
    "        photo = imread(img, mode='RGB')\n",
    "        photo = imresize(photo, (224, 224))\n",
    "#         photo = imresize(photo, (photo.shape[0], photo.shape[1]))\n",
    "        photos.append(photo)\n",
    "    return predict(photos)\n",
    "        "
   ]
  },
  {
   "cell_type": "code",
   "execution_count": null,
   "metadata": {
    "collapsed": false
   },
   "outputs": [
    {
     "name": "stderr",
     "output_type": "stream",
     "text": [
      "\r",
      "  0%|          | 0/18 [00:00<?, ?it/s]"
     ]
    }
   ],
   "source": [
    "predict_user('alexm.shots')"
   ]
  },
  {
   "cell_type": "code",
   "execution_count": null,
   "metadata": {
    "collapsed": true
   },
   "outputs": [],
   "source": []
  }
 ],
 "metadata": {
  "kernelspec": {
   "display_name": "simplepython",
   "language": "python",
   "name": "simplepython"
  },
  "language_info": {
   "codemirror_mode": {
    "name": "ipython",
    "version": 2
   },
   "file_extension": ".py",
   "mimetype": "text/x-python",
   "name": "python",
   "nbconvert_exporter": "python",
   "pygments_lexer": "ipython2",
   "version": "2.7.12"
  }
 },
 "nbformat": 4,
 "nbformat_minor": 2
}
