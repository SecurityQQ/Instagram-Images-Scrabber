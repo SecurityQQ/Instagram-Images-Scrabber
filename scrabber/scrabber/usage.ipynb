{
 "cells": [
  {
   "cell_type": "code",
   "execution_count": 2,
   "metadata": {
    "collapsed": false,
    "deletable": true,
    "editable": true
   },
   "outputs": [],
   "source": [
    "import scrabber as scrabber"
   ]
  },
  {
   "cell_type": "code",
   "execution_count": 11,
   "metadata": {
    "collapsed": true,
    "deletable": true,
    "editable": true
   },
   "outputs": [],
   "source": [
    "import os"
   ]
  },
  {
   "cell_type": "code",
   "execution_count": 12,
   "metadata": {
    "collapsed": false,
    "deletable": true,
    "editable": true
   },
   "outputs": [
    {
     "name": "stderr",
     "output_type": "stream",
     "text": [
      "2017-04-17 19:05:44,887 - INFO - Instabot Started\n",
      "2017-04-17 19:05:44,887 - INFO - Instabot Started\n",
      "2017-04-17 19:05:46,744 - INFO - Login success as ohrana228!\n",
      "2017-04-17 19:05:46,744 - INFO - Login success as ohrana228!\n"
     ]
    }
   ],
   "source": [
    "scr = scr.InstagramScrabber()"
   ]
  },
  {
   "cell_type": "code",
   "execution_count": 4,
   "metadata": {
    "collapsed": false,
    "deletable": true,
    "editable": true
   },
   "outputs": [],
   "source": [
    "json = scr.bot.get_media_json('822117162')"
   ]
  },
  {
   "cell_type": "code",
   "execution_count": null,
   "metadata": {
    "collapsed": false,
    "deletable": true,
    "editable": true
   },
   "outputs": [],
   "source": [
    "scr.collect_images_with_followers('alexm.shots')"
   ]
  },
  {
   "cell_type": "code",
   "execution_count": 6,
   "metadata": {
    "collapsed": false,
    "deletable": true,
    "editable": true
   },
   "outputs": [],
   "source": [
    "scr.collect_images('alexm.daily')"
   ]
  },
  {
   "cell_type": "code",
   "execution_count": 3,
   "metadata": {
    "collapsed": false,
    "deletable": true,
    "editable": true
   },
   "outputs": [
    {
     "name": "stderr",
     "output_type": "stream",
     "text": [
      "2017-04-17 19:21:05,105 - INFO - Instabot Started\n",
      "2017-04-17 19:21:06,270 - INFO - Login success as ohrana228!\n"
     ]
    },
    {
     "name": "stdout",
     "output_type": "stream",
     "text": [
      "-- Running collect images with followers\n",
      "Collecting user 0/20\n"
     ]
    },
    {
     "name": "stderr",
     "output_type": "stream",
     "text": [
      "2017-04-17 19:21:23,667 - WARNING - Request return 400 error!\n",
      "2017-04-17 19:21:23,669 - WARNING - This is a closed account.\n"
     ]
    },
    {
     "name": "stdout",
     "output_type": "stream",
     "text": [
      "Exception at collect_images_with_followers: list indices must be integers, not str\n",
      "Collecting user 1/20\n",
      "Collecting user 2/20\n",
      "Collecting user 3/20\n",
      "Collecting user 4/20\n",
      "Collecting user 5/20\n",
      "Collecting user 6/20\n",
      "Collecting user 7/20\n",
      "Collecting user 8/20\n"
     ]
    },
    {
     "name": "stderr",
     "output_type": "stream",
     "text": [
      "2017-04-17 19:21:39,881 - WARNING - Request return 400 error!\n",
      "2017-04-17 19:21:39,893 - WARNING - This is a closed account.\n"
     ]
    },
    {
     "name": "stdout",
     "output_type": "stream",
     "text": [
      "Exception at collect_images_with_followers: list indices must be integers, not str\n",
      "Collecting user 9/20\n"
     ]
    },
    {
     "name": "stderr",
     "output_type": "stream",
     "text": [
      "2017-04-17 19:21:40,254 - WARNING - Request return 400 error!\n",
      "2017-04-17 19:21:40,256 - WARNING - This is a closed account.\n"
     ]
    },
    {
     "name": "stdout",
     "output_type": "stream",
     "text": [
      "Exception at collect_images_with_followers: list indices must be integers, not str\n",
      "Collecting user 10/20\n",
      "Collecting user 11/20\n",
      "Collecting user 12/20\n",
      "Collecting user 13/20\n",
      "Collecting user 14/20\n"
     ]
    },
    {
     "name": "stderr",
     "output_type": "stream",
     "text": [
      "2017-04-17 19:21:51,778 - WARNING - Request return 400 error!\n",
      "2017-04-17 19:21:51,790 - WARNING - This is a closed account.\n"
     ]
    },
    {
     "name": "stdout",
     "output_type": "stream",
     "text": [
      "Exception at collect_images_with_followers: list indices must be integers, not str\n",
      "Collecting user 15/20\n",
      "Collecting user 16/20\n",
      "Collecting user 17/20\n",
      "Collecting user 18/20\n",
      "Collecting user 19/20\n"
     ]
    },
    {
     "name": "stderr",
     "output_type": "stream",
     "text": [
      "2017-04-17 19:21:57,598 - WARNING - Request return 400 error!\n",
      "2017-04-17 19:21:57,609 - WARNING - This is a closed account.\n"
     ]
    },
    {
     "name": "stdout",
     "output_type": "stream",
     "text": [
      "Exception at collect_images_with_followers: list indices must be integers, not str\n",
      "Finished collecting images\n"
     ]
    }
   ],
   "source": [
    "saved_users = scrabber.get_data('wylsacom')"
   ]
  },
  {
   "cell_type": "code",
   "execution_count": null,
   "metadata": {
    "collapsed": true,
    "deletable": true,
    "editable": true
   },
   "outputs": [],
   "source": []
  }
 ],
 "metadata": {
  "kernelspec": {
   "display_name": "Python 2",
   "language": "python",
   "name": "python2"
  },
  "language_info": {
   "codemirror_mode": {
    "name": "ipython",
    "version": 2
   },
   "file_extension": ".py",
   "mimetype": "text/x-python",
   "name": "python",
   "nbconvert_exporter": "python",
   "pygments_lexer": "ipython2",
   "version": "2.7.13"
  }
 },
 "nbformat": 4,
 "nbformat_minor": 0
}
