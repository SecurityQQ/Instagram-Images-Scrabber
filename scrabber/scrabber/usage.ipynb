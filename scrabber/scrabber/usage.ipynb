{
 "cells": [
  {
   "cell_type": "code",
   "execution_count": 11,
   "metadata": {
    "collapsed": false,
    "deletable": true,
    "editable": true
   },
   "outputs": [],
   "source": [
    "import scrabber as scrabber"
   ]
  },
  {
   "cell_type": "code",
   "execution_count": 12,
   "metadata": {
    "collapsed": true,
    "deletable": true,
    "editable": true
   },
   "outputs": [],
   "source": [
    "import os"
   ]
  },
  {
   "cell_type": "code",
   "execution_count": 13,
   "metadata": {
    "collapsed": false,
    "deletable": true,
    "editable": true
   },
   "outputs": [
    {
     "name": "stderr",
     "output_type": "stream",
     "text": [
      "2017-04-19 01:03:09,682 - INFO - Instabot Started\n",
      "2017-04-19 01:03:09,682 - INFO - Instabot Started\n",
      "2017-04-19 01:03:09,682 - INFO - Instabot Started\n"
     ]
    },
    {
     "name": "stdout",
     "output_type": "stream",
     "text": [
      "init\n"
     ]
    },
    {
     "name": "stderr",
     "output_type": "stream",
     "text": [
      "2017-04-19 01:03:10,985 - INFO - Login success as ohrana228!\n",
      "2017-04-19 01:03:10,985 - INFO - Login success as ohrana228!\n",
      "2017-04-19 01:03:10,985 - INFO - Login success as ohrana228!\n"
     ]
    }
   ],
   "source": [
    "scr = scrabber.InstagramScrabber()"
   ]
  },
  {
   "cell_type": "code",
   "execution_count": 14,
   "metadata": {
    "collapsed": false,
    "deletable": true,
    "editable": true
   },
   "outputs": [],
   "source": [
    "json = scr.bot.get_media_json('822117162')"
   ]
  },
  {
   "cell_type": "code",
   "execution_count": null,
   "metadata": {
    "collapsed": false,
    "deletable": true,
    "editable": true
   },
   "outputs": [
    {
     "name": "stdout",
     "output_type": "stream",
     "text": [
      "./images/\n",
      "-- Running collect images with followers\n",
      "Media id at get active users by media id 1385767714861976692\n",
      "Media id at get active users by media id 1361674229682855772\n",
      "Media id at get active users by media id 1355912722097516496\n",
      "Media id at get active users by media id 1317011056199730897\n",
      "Media id at get active users by media id 1316733474871105262\n",
      "Media id at get active users by media id 1313821729710046155\n",
      "Media id at get active users by media id 1313605770013425181\n",
      "Media id at get active users by media id 1312576450927190664\n",
      "Media id at get active users by media id 1310765914241568485\n",
      "Media id at get active users by media id 1309584189792500332\n",
      "Media id at get active users by media id 1309385115801767474\n",
      "Media id at get active users by media id 1309235611345854567\n",
      "Media id at get active users by media id 1308727636403373911\n",
      "Media id at get active users by media id 1307910593835758485\n",
      "Media id at get active users by media id 1307909466767548654\n",
      "Media id at get active users by media id 1307864879957197583\n",
      "Media id at get active users by media id 1307469092261586794\n",
      "Media id at get active users by media id 1306711251389091875\n",
      "Collecting user 0/20\n",
      "('collecting', '2931680555')\n",
      "Collecting user 1/20\n",
      "('collecting', '3655333900')\n",
      "Collecting user 2/20\n",
      "('collecting', '633238374')\n",
      "Collecting user 3/20\n",
      "('collecting', '3631712471')\n",
      "Collecting user 4/20\n",
      "('collecting', '206669781')\n",
      "Collecting user 5/20\n",
      "('collecting', '224625407')\n",
      "Collecting user 6/20\n",
      "('collecting', '3159613484')\n",
      "Collecting user 7/20\n",
      "('collecting', '428201100')\n",
      "Collecting user 8/20\n",
      "('collecting', '3228757477')\n",
      "Collecting user 9/20\n",
      "('collecting', '266427746')\n",
      "Collecting user 10/20\n",
      "('collecting', '2235923901')\n"
     ]
    }
   ],
   "source": [
    "scr.collect_images_with_followers('alexm.shots')"
   ]
  },
  {
   "cell_type": "code",
   "execution_count": 6,
   "metadata": {
    "collapsed": false,
    "deletable": true,
    "editable": true
   },
   "outputs": [],
   "source": [
    "scr.collect_images('alexm.daily')"
   ]
  },
  {
   "cell_type": "code",
   "execution_count": 3,
   "metadata": {
    "collapsed": false,
    "deletable": true,
    "editable": true
   },
   "outputs": [
    {
     "name": "stderr",
     "output_type": "stream",
     "text": [
      "2017-04-17 19:21:05,105 - INFO - Instabot Started\n",
      "2017-04-17 19:21:06,270 - INFO - Login success as ohrana228!\n"
     ]
    },
    {
     "name": "stdout",
     "output_type": "stream",
     "text": [
      "-- Running collect images with followers\n",
      "Collecting user 0/20\n"
     ]
    },
    {
     "name": "stderr",
     "output_type": "stream",
     "text": [
      "2017-04-17 19:21:23,667 - WARNING - Request return 400 error!\n",
      "2017-04-17 19:21:23,669 - WARNING - This is a closed account.\n"
     ]
    },
    {
     "name": "stdout",
     "output_type": "stream",
     "text": [
      "Exception at collect_images_with_followers: list indices must be integers, not str\n",
      "Collecting user 1/20\n",
      "Collecting user 2/20\n",
      "Collecting user 3/20\n",
      "Collecting user 4/20\n",
      "Collecting user 5/20\n",
      "Collecting user 6/20\n",
      "Collecting user 7/20\n",
      "Collecting user 8/20\n"
     ]
    },
    {
     "name": "stderr",
     "output_type": "stream",
     "text": [
      "2017-04-17 19:21:39,881 - WARNING - Request return 400 error!\n",
      "2017-04-17 19:21:39,893 - WARNING - This is a closed account.\n"
     ]
    },
    {
     "name": "stdout",
     "output_type": "stream",
     "text": [
      "Exception at collect_images_with_followers: list indices must be integers, not str\n",
      "Collecting user 9/20\n"
     ]
    },
    {
     "name": "stderr",
     "output_type": "stream",
     "text": [
      "2017-04-17 19:21:40,254 - WARNING - Request return 400 error!\n",
      "2017-04-17 19:21:40,256 - WARNING - This is a closed account.\n"
     ]
    },
    {
     "name": "stdout",
     "output_type": "stream",
     "text": [
      "Exception at collect_images_with_followers: list indices must be integers, not str\n",
      "Collecting user 10/20\n",
      "Collecting user 11/20\n",
      "Collecting user 12/20\n",
      "Collecting user 13/20\n",
      "Collecting user 14/20\n"
     ]
    },
    {
     "name": "stderr",
     "output_type": "stream",
     "text": [
      "2017-04-17 19:21:51,778 - WARNING - Request return 400 error!\n",
      "2017-04-17 19:21:51,790 - WARNING - This is a closed account.\n"
     ]
    },
    {
     "name": "stdout",
     "output_type": "stream",
     "text": [
      "Exception at collect_images_with_followers: list indices must be integers, not str\n",
      "Collecting user 15/20\n",
      "Collecting user 16/20\n",
      "Collecting user 17/20\n",
      "Collecting user 18/20\n",
      "Collecting user 19/20\n"
     ]
    },
    {
     "name": "stderr",
     "output_type": "stream",
     "text": [
      "2017-04-17 19:21:57,598 - WARNING - Request return 400 error!\n",
      "2017-04-17 19:21:57,609 - WARNING - This is a closed account.\n"
     ]
    },
    {
     "name": "stdout",
     "output_type": "stream",
     "text": [
      "Exception at collect_images_with_followers: list indices must be integers, not str\n",
      "Finished collecting images\n"
     ]
    }
   ],
   "source": [
    "saved_users = scrabber.get_data('wylsacom')"
   ]
  },
  {
   "cell_type": "code",
   "execution_count": null,
   "metadata": {
    "collapsed": true,
    "deletable": true,
    "editable": true
   },
   "outputs": [],
   "source": [
    ""
   ]
  }
 ],
 "metadata": {
  "kernelspec": {
   "display_name": "Python 2",
   "language": "python",
   "name": "python2"
  },
  "language_info": {
   "codemirror_mode": {
    "name": "ipython",
    "version": 2.0
   },
   "file_extension": ".py",
   "mimetype": "text/x-python",
   "name": "python",
   "nbconvert_exporter": "python",
   "pygments_lexer": "ipython2",
   "version": "2.7.12+"
  }
 },
 "nbformat": 4,
 "nbformat_minor": 0
}